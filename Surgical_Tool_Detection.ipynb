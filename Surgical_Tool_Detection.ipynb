{
 "cells": [
  {
   "cell_type": "markdown",
   "metadata": {},
   "source": [
    "## Surgical Tool Detection"
   ]
  },
  {
   "cell_type": "markdown",
   "metadata": {},
   "source": [
    "###### Identify all surgical tools that are present in an image"
   ]
  },
  {
   "cell_type": "markdown",
   "metadata": {},
   "source": [
    "<img src=\"tool_name.jpg\">"
   ]
  },
  {
   "cell_type": "code",
   "execution_count": 3,
   "metadata": {},
   "outputs": [],
   "source": [
    "# load the packages\n",
    "import numpy as np\n",
    "import os\n",
    "import pandas as pd\n",
    "import matplotlib.pyplot as plt\n",
    "import cv2\n",
    "from glob import glob\n",
    "from tqdm import tqdm\n",
    "import h5py\n",
    "\n",
    "%matplotlib inline"
   ]
  },
  {
   "cell_type": "markdown",
   "metadata": {},
   "source": [
    "### Read Video files"
   ]
  },
  {
   "cell_type": "code",
   "execution_count": 7,
   "metadata": {},
   "outputs": [],
   "source": [
    "def video2frame(filepath, output):\n",
    "    #path = filepath+filename+'.mp4';\n",
    "    filename = os.path.basename(filepath).split('.')[0]    \n",
    "    cap = cv2.VideoCapture(filepath)\n",
    "    if cap.isOpened() is False:\n",
    "        print('Error opening video file '+str(filepath))\n",
    "    frame_count = 0\n",
    "    while cap.isOpened():\n",
    "        ret, frame = cap.read()\n",
    "        if frame_count%25 == 0:\n",
    "            if ret is True:\n",
    "                frame_name = filename + '_' + str(frame_count)\n",
    "                frame_path = os.path.join(output,frame_name + '.' + 'jpg')\n",
    "                cv2.imwrite(frame_path,frame)\n",
    "            else:\n",
    "                break\n",
    "        frame_count+=1\n",
    "    print(filepath, filename, frame_count/25)"
   ]
  },
  {
   "cell_type": "markdown",
   "metadata": {},
   "source": [
    "## Extract training data "
   ]
  },
  {
   "cell_type": "code",
   "execution_count": 6,
   "metadata": {},
   "outputs": [
    {
     "name": "stdout",
     "output_type": "stream",
     "text": [
      "data/m2cai16-tool/train_dataset\\tool_video_01.mp4 tool_video_01 2354.0\n",
      "data/m2cai16-tool/train_dataset\\tool_video_02.mp4 tool_video_02 1973.0\n",
      "data/m2cai16-tool/train_dataset\\tool_video_03.mp4 tool_video_03 4576.0\n",
      "data/m2cai16-tool/train_dataset\\tool_video_04.mp4 tool_video_04 1195.0\n",
      "data/m2cai16-tool/train_dataset\\tool_video_05.mp4 tool_video_05 2516.0\n",
      "data/m2cai16-tool/train_dataset\\tool_video_06.mp4 tool_video_06 3107.0\n",
      "data/m2cai16-tool/train_dataset\\tool_video_07.mp4 tool_video_07 1357.0\n",
      "data/m2cai16-tool/train_dataset\\tool_video_08.mp4 tool_video_08 1635.0\n",
      "data/m2cai16-tool/train_dataset\\tool_video_09.mp4 tool_video_09 1924.0\n",
      "data/m2cai16-tool/train_dataset\\tool_video_10.mp4 tool_video_10 2650.0\n"
     ]
    }
   ],
   "source": [
    "filepath = 'data/m2cai16-tool/train_dataset/*.mp4'\n",
    "output_path = 'data/m2cai16-tool/train_dataset/images'\n",
    "\n",
    "# Clean dir\n",
    "if not os.path.exists(output_path):\n",
    "    os.mkdir(output_path)\n",
    "for filepath in glob(output_path+'/*'):\n",
    "    os.remove(filepath)\n",
    "    \n",
    "for filename in glob(filepath):\n",
    "    video2frame(filename, output_path)\n",
    "    "
   ]
  },
  {
   "cell_type": "markdown",
   "metadata": {},
   "source": [
    "## Read text files"
   ]
  },
  {
   "cell_type": "code",
   "execution_count": 51,
   "metadata": {},
   "outputs": [
    {
     "data": {
      "text/html": [
       "<div>\n",
       "<style scoped>\n",
       "    .dataframe tbody tr th:only-of-type {\n",
       "        vertical-align: middle;\n",
       "    }\n",
       "\n",
       "    .dataframe tbody tr th {\n",
       "        vertical-align: top;\n",
       "    }\n",
       "\n",
       "    .dataframe thead th {\n",
       "        text-align: right;\n",
       "    }\n",
       "</style>\n",
       "<table border=\"1\" class=\"dataframe\">\n",
       "  <thead>\n",
       "    <tr style=\"text-align: right;\">\n",
       "      <th></th>\n",
       "      <th>Grasper</th>\n",
       "      <th>Bipolar</th>\n",
       "      <th>Hook</th>\n",
       "      <th>Scissors</th>\n",
       "      <th>Clipper</th>\n",
       "      <th>Irrigator</th>\n",
       "      <th>SpecimenBag</th>\n",
       "    </tr>\n",
       "  </thead>\n",
       "  <tbody>\n",
       "    <tr>\n",
       "      <th>0</th>\n",
       "      <td>0</td>\n",
       "      <td>0</td>\n",
       "      <td>0</td>\n",
       "      <td>0</td>\n",
       "      <td>0</td>\n",
       "      <td>0</td>\n",
       "      <td>0</td>\n",
       "    </tr>\n",
       "    <tr>\n",
       "      <th>1</th>\n",
       "      <td>0</td>\n",
       "      <td>0</td>\n",
       "      <td>0</td>\n",
       "      <td>0</td>\n",
       "      <td>0</td>\n",
       "      <td>0</td>\n",
       "      <td>0</td>\n",
       "    </tr>\n",
       "    <tr>\n",
       "      <th>2</th>\n",
       "      <td>0</td>\n",
       "      <td>0</td>\n",
       "      <td>0</td>\n",
       "      <td>0</td>\n",
       "      <td>0</td>\n",
       "      <td>0</td>\n",
       "      <td>0</td>\n",
       "    </tr>\n",
       "    <tr>\n",
       "      <th>3</th>\n",
       "      <td>0</td>\n",
       "      <td>0</td>\n",
       "      <td>0</td>\n",
       "      <td>0</td>\n",
       "      <td>0</td>\n",
       "      <td>0</td>\n",
       "      <td>0</td>\n",
       "    </tr>\n",
       "    <tr>\n",
       "      <th>4</th>\n",
       "      <td>0</td>\n",
       "      <td>0</td>\n",
       "      <td>0</td>\n",
       "      <td>0</td>\n",
       "      <td>0</td>\n",
       "      <td>0</td>\n",
       "      <td>0</td>\n",
       "    </tr>\n",
       "  </tbody>\n",
       "</table>\n",
       "</div>"
      ],
      "text/plain": [
       "   Grasper  Bipolar  Hook  Scissors  Clipper  Irrigator  SpecimenBag\n",
       "0        0        0     0         0        0          0            0\n",
       "1        0        0     0         0        0          0            0\n",
       "2        0        0     0         0        0          0            0\n",
       "3        0        0     0         0        0          0            0\n",
       "4        0        0     0         0        0          0            0"
      ]
     },
     "execution_count": 51,
     "metadata": {},
     "output_type": "execute_result"
    }
   ],
   "source": [
    "train_dfs = []\n",
    "train_label_path = 'data/m2cai16-tool/train_dataset/tool_video_??.txt'\n",
    "# train_label_path = 'data/m2cai16-tool/train_dataset/tool_video_01.txt'\n",
    "for filepath in glob(train_label_path):    \n",
    "    tdf = pd.read_table(filepath)\n",
    "    train_dfs.append(tdf)    \n",
    "train_dfs = pd.concat(train_dfs)\n",
    "train_dfs.drop('Frame', 1, inplace=True)\n",
    "train_dfs.head()"
   ]
  },
  {
   "cell_type": "code",
   "execution_count": 53,
   "metadata": {},
   "outputs": [
    {
     "data": {
      "text/plain": [
       "array([1, 0, 0, 0, 0, 0, 0], dtype=int64)"
      ]
     },
     "execution_count": 53,
     "metadata": {},
     "output_type": "execute_result"
    }
   ],
   "source": [
    "train_dfs = np.array(train_dfs)\n",
    "train_dfs[76]"
   ]
  },
  {
   "cell_type": "markdown",
   "metadata": {},
   "source": [
    "## Load Images "
   ]
  },
  {
   "cell_type": "code",
   "execution_count": 2,
   "metadata": {},
   "outputs": [],
   "source": [
    "train_images_pattern = 'data/m2cai16-tool/train_dataset/images/tool_video_*.jpg'\n",
    "train_images_paths = []\n",
    "for path in glob(train_images_pattern):\n",
    "    train_images_paths.append(path);"
   ]
  },
  {
   "cell_type": "code",
   "execution_count": 3,
   "metadata": {},
   "outputs": [
    {
     "data": {
      "text/plain": [
       "23287"
      ]
     },
     "execution_count": 3,
     "metadata": {},
     "output_type": "execute_result"
    }
   ],
   "source": [
    "len(train_images_paths)"
   ]
  },
  {
   "cell_type": "code",
   "execution_count": 4,
   "metadata": {},
   "outputs": [
    {
     "data": {
      "text/plain": [
       "['data/m2cai16-tool/train_dataset/images\\\\tool_video_01_0.jpg',\n",
       " 'data/m2cai16-tool/train_dataset/images\\\\tool_video_01_100.jpg',\n",
       " 'data/m2cai16-tool/train_dataset/images\\\\tool_video_01_1000.jpg',\n",
       " 'data/m2cai16-tool/train_dataset/images\\\\tool_video_01_10000.jpg',\n",
       " 'data/m2cai16-tool/train_dataset/images\\\\tool_video_01_10025.jpg',\n",
       " 'data/m2cai16-tool/train_dataset/images\\\\tool_video_01_10050.jpg',\n",
       " 'data/m2cai16-tool/train_dataset/images\\\\tool_video_01_10075.jpg',\n",
       " 'data/m2cai16-tool/train_dataset/images\\\\tool_video_01_10100.jpg',\n",
       " 'data/m2cai16-tool/train_dataset/images\\\\tool_video_01_10125.jpg',\n",
       " 'data/m2cai16-tool/train_dataset/images\\\\tool_video_01_10150.jpg']"
      ]
     },
     "execution_count": 4,
     "metadata": {},
     "output_type": "execute_result"
    }
   ],
   "source": [
    "train_images_paths[0:10]      # File names are not in \"natural order\""
   ]
  },
  {
   "cell_type": "markdown",
   "metadata": {},
   "source": [
    "### Comparator for sorting the file paths in natural order"
   ]
  },
  {
   "cell_type": "code",
   "execution_count": 4,
   "metadata": {},
   "outputs": [],
   "source": [
    "import re\n",
    "def compare_key(s):\n",
    "    r = r\"tool_video_(\\d*)_(\\d*)\"\n",
    "    m = re.search(r, s)\n",
    "    return int(m.group(1))*100000 + int(m.group(2))"
   ]
  },
  {
   "cell_type": "code",
   "execution_count": 6,
   "metadata": {},
   "outputs": [],
   "source": [
    "train_images_paths.sort(key = compare_key)"
   ]
  },
  {
   "cell_type": "code",
   "execution_count": 17,
   "metadata": {},
   "outputs": [
    {
     "data": {
      "text/plain": [
       "['data/m2cai16-tool/train_dataset/images\\\\tool_video_01_0.jpg',\n",
       " 'data/m2cai16-tool/train_dataset/images\\\\tool_video_01_25.jpg',\n",
       " 'data/m2cai16-tool/train_dataset/images\\\\tool_video_01_50.jpg',\n",
       " 'data/m2cai16-tool/train_dataset/images\\\\tool_video_01_75.jpg',\n",
       " 'data/m2cai16-tool/train_dataset/images\\\\tool_video_01_100.jpg',\n",
       " 'data/m2cai16-tool/train_dataset/images\\\\tool_video_01_125.jpg',\n",
       " 'data/m2cai16-tool/train_dataset/images\\\\tool_video_01_150.jpg',\n",
       " 'data/m2cai16-tool/train_dataset/images\\\\tool_video_01_175.jpg',\n",
       " 'data/m2cai16-tool/train_dataset/images\\\\tool_video_01_200.jpg',\n",
       " 'data/m2cai16-tool/train_dataset/images\\\\tool_video_01_225.jpg']"
      ]
     },
     "execution_count": 17,
     "metadata": {},
     "output_type": "execute_result"
    }
   ],
   "source": [
    "train_images_paths[0:10]"
   ]
  },
  {
   "cell_type": "markdown",
   "metadata": {},
   "source": [
    "### Create H5 dataset"
   ]
  },
  {
   "cell_type": "code",
   "execution_count": 108,
   "metadata": {},
   "outputs": [],
   "source": [
    "import h5py\n",
    "\n",
    "# Data preperation reference.\n",
    "# http://machinelearninguru.com/deep_learning/data_preparation/hdf5/hdf5.html\n",
    "\n",
    "train_data_dump_path = 'data/train_dataset.h5'\n",
    "train_data_dump = h5py.File(train_data_dump_path, mode='r+')"
   ]
  },
  {
   "cell_type": "code",
   "execution_count": 110,
   "metadata": {},
   "outputs": [],
   "source": [
    "train_data_dump.close()"
   ]
  },
  {
   "cell_type": "code",
   "execution_count": 92,
   "metadata": {},
   "outputs": [
    {
     "data": {
      "text/plain": [
       "<HDF5 dataset \"train_img\": shape (23287, 224, 224, 3), type \"|i1\">"
      ]
     },
     "execution_count": 92,
     "metadata": {},
     "output_type": "execute_result"
    }
   ],
   "source": [
    "train_shape = (len(train_images_paths), 224, 224, 3)\n",
    "train_data_dump.create_dataset(\"train_img\", train_shape, np.int8)"
   ]
  },
  {
   "cell_type": "code",
   "execution_count": 93,
   "metadata": {},
   "outputs": [
    {
     "data": {
      "text/plain": [
       "<HDF5 dataset \"train_label\": shape (23287, 7), type \"<i8\">"
      ]
     },
     "execution_count": 93,
     "metadata": {},
     "output_type": "execute_result"
    }
   ],
   "source": [
    "# train_df.shape\n",
    "train_data_dump.create_dataset(\"train_label\", data=train_dfs)"
   ]
  },
  {
   "cell_type": "code",
   "execution_count": 109,
   "metadata": {},
   "outputs": [
    {
     "data": {
      "text/plain": [
       "['train_img', 'train_label']"
      ]
     },
     "execution_count": 109,
     "metadata": {},
     "output_type": "execute_result"
    }
   ],
   "source": [
    "list(train_data_dump.keys())"
   ]
  },
  {
   "cell_type": "code",
   "execution_count": 95,
   "metadata": {},
   "outputs": [
    {
     "name": "stderr",
     "output_type": "stream",
     "text": [
      "100%|██████████████████████████████████████████████████████████████████████████████████████████| 23287/23287 [03:07<00:00, 124.06it/s]\n"
     ]
    }
   ],
   "source": [
    "for i in tqdm(range(len(train_images_paths))):\n",
    "        img = cv2.imread(train_images_paths[i])\n",
    "        img = cv2.cvtColor(img, cv2.COLOR_BGR2RGB)\n",
    "        img = cv2.resize(img, (224, 224), interpolation = cv2.INTER_CUBIC)\n",
    "        train_data_dump['train_img'][i, ...] = img[None]                        \n",
    "            \n",
    "            "
   ]
  },
  {
   "cell_type": "code",
   "execution_count": 96,
   "metadata": {},
   "outputs": [],
   "source": [
    "train_data_dump.close()"
   ]
  },
  {
   "cell_type": "raw",
   "metadata": {},
   "source": []
  },
  {
   "cell_type": "markdown",
   "metadata": {},
   "source": [
    "## Extract test images"
   ]
  },
  {
   "cell_type": "code",
   "execution_count": 8,
   "metadata": {},
   "outputs": [
    {
     "name": "stdout",
     "output_type": "stream",
     "text": [
      "data/m2cai16-tool/test_dataset\\tool_video_11.mp4 tool_video_11 4410.0\n",
      "data/m2cai16-tool/test_dataset\\tool_video_12.mp4 tool_video_12 2033.0\n",
      "data/m2cai16-tool/test_dataset\\tool_video_13.mp4 tool_video_13 2401.0\n",
      "data/m2cai16-tool/test_dataset\\tool_video_14.mp4 tool_video_14 1874.0\n",
      "data/m2cai16-tool/test_dataset\\tool_video_15.mp4 tool_video_15 1825.0\n"
     ]
    }
   ],
   "source": [
    "filepath = 'data/m2cai16-tool/test_dataset/*.mp4'\n",
    "output_path = 'data/m2cai16-tool/test_dataset/images'\n",
    "\n",
    "# Clean dir\n",
    "if not os.path.exists(output_path):\n",
    "    os.mkdir(output_path)\n",
    "for file in glob(output_path+'/*'):\n",
    "    os.remove(file)\n",
    "    \n",
    "for filename in glob(filepath):\n",
    "    video2frame(filename, output_path)\n",
    "    "
   ]
  },
  {
   "cell_type": "code",
   "execution_count": 9,
   "metadata": {
    "scrolled": false
   },
   "outputs": [
    {
     "name": "stdout",
     "output_type": "stream",
     "text": [
      "data/m2cai16-tool/test_dataset\\tool_video_11.txt (4410, 8)\n",
      "data/m2cai16-tool/test_dataset\\tool_video_12.txt (2033, 8)\n",
      "data/m2cai16-tool/test_dataset\\tool_video_13.txt (2399, 8)\n",
      "data/m2cai16-tool/test_dataset\\tool_video_14.txt (1874, 8)\n",
      "data/m2cai16-tool/test_dataset\\tool_video_15.txt (1825, 8)\n"
     ]
    },
    {
     "data": {
      "text/html": [
       "<div>\n",
       "<style scoped>\n",
       "    .dataframe tbody tr th:only-of-type {\n",
       "        vertical-align: middle;\n",
       "    }\n",
       "\n",
       "    .dataframe tbody tr th {\n",
       "        vertical-align: top;\n",
       "    }\n",
       "\n",
       "    .dataframe thead th {\n",
       "        text-align: right;\n",
       "    }\n",
       "</style>\n",
       "<table border=\"1\" class=\"dataframe\">\n",
       "  <thead>\n",
       "    <tr style=\"text-align: right;\">\n",
       "      <th></th>\n",
       "      <th>Grasper</th>\n",
       "      <th>Bipolar</th>\n",
       "      <th>Hook</th>\n",
       "      <th>Scissors</th>\n",
       "      <th>Clipper</th>\n",
       "      <th>Irrigator</th>\n",
       "      <th>SpecimenBag</th>\n",
       "    </tr>\n",
       "  </thead>\n",
       "  <tbody>\n",
       "    <tr>\n",
       "      <th>count</th>\n",
       "      <td>12541.000000</td>\n",
       "      <td>12541.000000</td>\n",
       "      <td>12541.000000</td>\n",
       "      <td>12541.000000</td>\n",
       "      <td>12541.000000</td>\n",
       "      <td>12541.000000</td>\n",
       "      <td>12541.000000</td>\n",
       "    </tr>\n",
       "    <tr>\n",
       "      <th>mean</th>\n",
       "      <td>0.523961</td>\n",
       "      <td>0.028626</td>\n",
       "      <td>0.594370</td>\n",
       "      <td>0.012599</td>\n",
       "      <td>0.025118</td>\n",
       "      <td>0.012678</td>\n",
       "      <td>0.038514</td>\n",
       "    </tr>\n",
       "    <tr>\n",
       "      <th>std</th>\n",
       "      <td>0.499445</td>\n",
       "      <td>0.166760</td>\n",
       "      <td>0.491033</td>\n",
       "      <td>0.111539</td>\n",
       "      <td>0.156489</td>\n",
       "      <td>0.111887</td>\n",
       "      <td>0.192440</td>\n",
       "    </tr>\n",
       "    <tr>\n",
       "      <th>min</th>\n",
       "      <td>0.000000</td>\n",
       "      <td>0.000000</td>\n",
       "      <td>0.000000</td>\n",
       "      <td>0.000000</td>\n",
       "      <td>0.000000</td>\n",
       "      <td>0.000000</td>\n",
       "      <td>0.000000</td>\n",
       "    </tr>\n",
       "    <tr>\n",
       "      <th>25%</th>\n",
       "      <td>0.000000</td>\n",
       "      <td>0.000000</td>\n",
       "      <td>0.000000</td>\n",
       "      <td>0.000000</td>\n",
       "      <td>0.000000</td>\n",
       "      <td>0.000000</td>\n",
       "      <td>0.000000</td>\n",
       "    </tr>\n",
       "    <tr>\n",
       "      <th>50%</th>\n",
       "      <td>1.000000</td>\n",
       "      <td>0.000000</td>\n",
       "      <td>1.000000</td>\n",
       "      <td>0.000000</td>\n",
       "      <td>0.000000</td>\n",
       "      <td>0.000000</td>\n",
       "      <td>0.000000</td>\n",
       "    </tr>\n",
       "    <tr>\n",
       "      <th>75%</th>\n",
       "      <td>1.000000</td>\n",
       "      <td>0.000000</td>\n",
       "      <td>1.000000</td>\n",
       "      <td>0.000000</td>\n",
       "      <td>0.000000</td>\n",
       "      <td>0.000000</td>\n",
       "      <td>0.000000</td>\n",
       "    </tr>\n",
       "    <tr>\n",
       "      <th>max</th>\n",
       "      <td>1.000000</td>\n",
       "      <td>1.000000</td>\n",
       "      <td>1.000000</td>\n",
       "      <td>1.000000</td>\n",
       "      <td>1.000000</td>\n",
       "      <td>1.000000</td>\n",
       "      <td>1.000000</td>\n",
       "    </tr>\n",
       "  </tbody>\n",
       "</table>\n",
       "</div>"
      ],
      "text/plain": [
       "            Grasper       Bipolar          Hook      Scissors       Clipper  \\\n",
       "count  12541.000000  12541.000000  12541.000000  12541.000000  12541.000000   \n",
       "mean       0.523961      0.028626      0.594370      0.012599      0.025118   \n",
       "std        0.499445      0.166760      0.491033      0.111539      0.156489   \n",
       "min        0.000000      0.000000      0.000000      0.000000      0.000000   \n",
       "25%        0.000000      0.000000      0.000000      0.000000      0.000000   \n",
       "50%        1.000000      0.000000      1.000000      0.000000      0.000000   \n",
       "75%        1.000000      0.000000      1.000000      0.000000      0.000000   \n",
       "max        1.000000      1.000000      1.000000      1.000000      1.000000   \n",
       "\n",
       "          Irrigator   SpecimenBag  \n",
       "count  12541.000000  12541.000000  \n",
       "mean       0.012678      0.038514  \n",
       "std        0.111887      0.192440  \n",
       "min        0.000000      0.000000  \n",
       "25%        0.000000      0.000000  \n",
       "50%        0.000000      0.000000  \n",
       "75%        0.000000      0.000000  \n",
       "max        1.000000      1.000000  "
      ]
     },
     "execution_count": 9,
     "metadata": {},
     "output_type": "execute_result"
    }
   ],
   "source": [
    "test_dfs = []\n",
    "test_label_path = 'data/m2cai16-tool/test_dataset/tool_video_??.txt'\n",
    "for filepath in glob(test_label_path):    \n",
    "    tdf = pd.read_table(filepath)\n",
    "    print(filepath, tdf.shape)\n",
    "    test_dfs.append(tdf)    \n",
    "test_dfs = pd.concat(test_dfs)\n",
    "test_dfs.drop('Frame', 1, inplace=True)\n",
    "test_dfs.describe()"
   ]
  },
  {
   "cell_type": "code",
   "execution_count": 10,
   "metadata": {},
   "outputs": [],
   "source": [
    "test_dfs = np.array(test_dfs)"
   ]
  },
  {
   "cell_type": "code",
   "execution_count": 11,
   "metadata": {},
   "outputs": [],
   "source": [
    "test_images_pattern = 'data/m2cai16-tool/test_dataset/images/tool_video_*.jpg'\n",
    "test_images_paths = []\n",
    "for path in glob(test_images_pattern):\n",
    "    test_images_paths.append(path);"
   ]
  },
  {
   "cell_type": "code",
   "execution_count": 12,
   "metadata": {},
   "outputs": [
    {
     "data": {
      "text/plain": [
       "12541"
      ]
     },
     "execution_count": 12,
     "metadata": {},
     "output_type": "execute_result"
    }
   ],
   "source": [
    "len(test_images_paths)"
   ]
  },
  {
   "cell_type": "code",
   "execution_count": 13,
   "metadata": {},
   "outputs": [
    {
     "data": {
      "text/plain": [
       "['data/m2cai16-tool/test_dataset/images\\\\tool_video_11_0.jpg',\n",
       " 'data/m2cai16-tool/test_dataset/images\\\\tool_video_11_100.jpg',\n",
       " 'data/m2cai16-tool/test_dataset/images\\\\tool_video_11_1000.jpg',\n",
       " 'data/m2cai16-tool/test_dataset/images\\\\tool_video_11_10000.jpg',\n",
       " 'data/m2cai16-tool/test_dataset/images\\\\tool_video_11_100000.jpg',\n",
       " 'data/m2cai16-tool/test_dataset/images\\\\tool_video_11_100025.jpg',\n",
       " 'data/m2cai16-tool/test_dataset/images\\\\tool_video_11_100050.jpg',\n",
       " 'data/m2cai16-tool/test_dataset/images\\\\tool_video_11_100075.jpg',\n",
       " 'data/m2cai16-tool/test_dataset/images\\\\tool_video_11_100100.jpg',\n",
       " 'data/m2cai16-tool/test_dataset/images\\\\tool_video_11_100125.jpg']"
      ]
     },
     "execution_count": 13,
     "metadata": {},
     "output_type": "execute_result"
    }
   ],
   "source": [
    "test_images_paths[0:10]      # File names are not in \"natural order\""
   ]
  },
  {
   "cell_type": "code",
   "execution_count": 14,
   "metadata": {},
   "outputs": [],
   "source": [
    "test_images_paths.sort(key = compare_key)"
   ]
  },
  {
   "cell_type": "code",
   "execution_count": 15,
   "metadata": {
    "scrolled": false
   },
   "outputs": [
    {
     "data": {
      "text/plain": [
       "['data/m2cai16-tool/test_dataset/images\\\\tool_video_11_0.jpg',\n",
       " 'data/m2cai16-tool/test_dataset/images\\\\tool_video_11_25.jpg',\n",
       " 'data/m2cai16-tool/test_dataset/images\\\\tool_video_11_50.jpg',\n",
       " 'data/m2cai16-tool/test_dataset/images\\\\tool_video_11_75.jpg',\n",
       " 'data/m2cai16-tool/test_dataset/images\\\\tool_video_11_100.jpg',\n",
       " 'data/m2cai16-tool/test_dataset/images\\\\tool_video_11_125.jpg',\n",
       " 'data/m2cai16-tool/test_dataset/images\\\\tool_video_11_150.jpg',\n",
       " 'data/m2cai16-tool/test_dataset/images\\\\tool_video_11_175.jpg',\n",
       " 'data/m2cai16-tool/test_dataset/images\\\\tool_video_11_200.jpg',\n",
       " 'data/m2cai16-tool/test_dataset/images\\\\tool_video_11_225.jpg']"
      ]
     },
     "execution_count": 15,
     "metadata": {},
     "output_type": "execute_result"
    }
   ],
   "source": [
    "test_images_paths[0:10]"
   ]
  },
  {
   "cell_type": "code",
   "execution_count": 16,
   "metadata": {},
   "outputs": [],
   "source": [
    "test_data_dump_path = 'data/test_dataset.h5'\n",
    "test_data_dump = h5py.File(test_data_dump_path, mode='w')"
   ]
  },
  {
   "cell_type": "code",
   "execution_count": 127,
   "metadata": {},
   "outputs": [],
   "source": [
    "test_data_dump.close()"
   ]
  },
  {
   "cell_type": "code",
   "execution_count": 18,
   "metadata": {},
   "outputs": [
    {
     "data": {
      "text/plain": [
       "<HDF5 dataset \"test_img\": shape (12541, 224, 224, 3), type \"|i1\">"
      ]
     },
     "execution_count": 18,
     "metadata": {},
     "output_type": "execute_result"
    }
   ],
   "source": [
    "test_shape = (len(test_images_paths), 224, 224, 3)\n",
    "test_data_dump.create_dataset(\"test_img\", test_shape, np.int8)"
   ]
  },
  {
   "cell_type": "code",
   "execution_count": 19,
   "metadata": {},
   "outputs": [
    {
     "data": {
      "text/plain": [
       "<HDF5 dataset \"test_label\": shape (12541, 7), type \"<i8\">"
      ]
     },
     "execution_count": 19,
     "metadata": {},
     "output_type": "execute_result"
    }
   ],
   "source": [
    "# test_dfs.shape\n",
    "test_data_dump.create_dataset(\"test_label\", data=test_dfs)"
   ]
  },
  {
   "cell_type": "code",
   "execution_count": 24,
   "metadata": {},
   "outputs": [
    {
     "data": {
      "text/plain": [
       "['test_img', 'test_label']"
      ]
     },
     "execution_count": 24,
     "metadata": {},
     "output_type": "execute_result"
    }
   ],
   "source": [
    "list(test_data_dump.keys())"
   ]
  },
  {
   "cell_type": "code",
   "execution_count": 21,
   "metadata": {},
   "outputs": [
    {
     "data": {
      "text/plain": [
       "<HDF5 file \"test_dataset.h5\" (mode r+)>"
      ]
     },
     "execution_count": 21,
     "metadata": {},
     "output_type": "execute_result"
    }
   ],
   "source": [
    "test_data_dump.file"
   ]
  },
  {
   "cell_type": "code",
   "execution_count": null,
   "metadata": {},
   "outputs": [],
   "source": []
  },
  {
   "cell_type": "code",
   "execution_count": 23,
   "metadata": {},
   "outputs": [
    {
     "name": "stderr",
     "output_type": "stream",
     "text": [
      "100%|███████████████████████████████████████████████████████████████████████████████████████████| 12541/12541 [03:34<00:00, 58.56it/s]\n"
     ]
    }
   ],
   "source": [
    "for i in tqdm(range(len(test_images_paths))):\n",
    "        img = cv2.imread(test_images_paths[i])\n",
    "        img = cv2.cvtColor(img, cv2.COLOR_BGR2RGB)\n",
    "        img = cv2.resize(img, (224, 224), interpolation = cv2.INTER_CUBIC)\n",
    "        test_data_dump['test_img'][i, ...] = img[None]                        \n",
    "            \n",
    "            "
   ]
  },
  {
   "cell_type": "code",
   "execution_count": null,
   "metadata": {},
   "outputs": [],
   "source": [
    "test_data_dump.close()"
   ]
  }
 ],
 "metadata": {
  "kernelspec": {
   "display_name": "Python 3",
   "language": "python",
   "name": "python3"
  },
  "language_info": {
   "codemirror_mode": {
    "name": "ipython",
    "version": 3
   },
   "file_extension": ".py",
   "mimetype": "text/x-python",
   "name": "python",
   "nbconvert_exporter": "python",
   "pygments_lexer": "ipython3",
   "version": "3.6.5"
  }
 },
 "nbformat": 4,
 "nbformat_minor": 2
}
